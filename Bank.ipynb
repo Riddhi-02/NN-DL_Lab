{
  "nbformat": 4,
  "nbformat_minor": 0,
  "metadata": {
    "colab": {
      "name": "Bank.ipynb",
      "provenance": [],
      "collapsed_sections": []
    },
    "kernelspec": {
      "name": "python3",
      "display_name": "Python 3"
    },
    "language_info": {
      "name": "python"
    }
  },
  "cells": [
    {
      "cell_type": "code",
      "execution_count": 13,
      "metadata": {
        "id": "dgDRlwO7nmxZ"
      },
      "outputs": [],
      "source": [
        "import pandas as pd\n",
        "from sklearn.preprocessing import MinMaxScaler\n",
        "from sklearn.model_selection import train_test_split\n",
        "import tensorflow as tf\n",
        "from tensorflow import keras\n",
        "import pandas as pd\n",
        "import numpy as np\n",
        "import matplotlib.pyplot as plt"
      ]
    },
    {
      "cell_type": "code",
      "source": [
        "df=pd.read_csv('/content/Churn_Modelling.csv')\n",
        "df.head()"
      ],
      "metadata": {
        "colab": {
          "base_uri": "https://localhost:8080/",
          "height": 205
        },
        "id": "AZlpXm6BoT28",
        "outputId": "d324e20c-7d40-4087-d821-c202e5a58b59"
      },
      "execution_count": 14,
      "outputs": [
        {
          "output_type": "execute_result",
          "data": {
            "text/plain": [
              "   RowNumber  CustomerId   Surname  CreditScore Geography  Gender  Age  \\\n",
              "0          1    15634602  Hargrave          619    France  Female   42   \n",
              "1          2    15647311      Hill          608     Spain  Female   41   \n",
              "2          3    15619304      Onio          502    France  Female   42   \n",
              "3          4    15701354      Boni          699    France  Female   39   \n",
              "4          5    15737888  Mitchell          850     Spain  Female   43   \n",
              "\n",
              "   Tenure    Balance  NumOfProducts  HasCrCard  IsActiveMember  \\\n",
              "0       2       0.00              1          1               1   \n",
              "1       1   83807.86              1          0               1   \n",
              "2       8  159660.80              3          1               0   \n",
              "3       1       0.00              2          0               0   \n",
              "4       2  125510.82              1          1               1   \n",
              "\n",
              "   EstimatedSalary  Exited  \n",
              "0        101348.88       1  \n",
              "1        112542.58       0  \n",
              "2        113931.57       1  \n",
              "3         93826.63       0  \n",
              "4         79084.10       0  "
            ],
            "text/html": [
              "\n",
              "  <div id=\"df-19d89e7c-f354-4b48-9dc0-42f0aafec48d\">\n",
              "    <div class=\"colab-df-container\">\n",
              "      <div>\n",
              "<style scoped>\n",
              "    .dataframe tbody tr th:only-of-type {\n",
              "        vertical-align: middle;\n",
              "    }\n",
              "\n",
              "    .dataframe tbody tr th {\n",
              "        vertical-align: top;\n",
              "    }\n",
              "\n",
              "    .dataframe thead th {\n",
              "        text-align: right;\n",
              "    }\n",
              "</style>\n",
              "<table border=\"1\" class=\"dataframe\">\n",
              "  <thead>\n",
              "    <tr style=\"text-align: right;\">\n",
              "      <th></th>\n",
              "      <th>RowNumber</th>\n",
              "      <th>CustomerId</th>\n",
              "      <th>Surname</th>\n",
              "      <th>CreditScore</th>\n",
              "      <th>Geography</th>\n",
              "      <th>Gender</th>\n",
              "      <th>Age</th>\n",
              "      <th>Tenure</th>\n",
              "      <th>Balance</th>\n",
              "      <th>NumOfProducts</th>\n",
              "      <th>HasCrCard</th>\n",
              "      <th>IsActiveMember</th>\n",
              "      <th>EstimatedSalary</th>\n",
              "      <th>Exited</th>\n",
              "    </tr>\n",
              "  </thead>\n",
              "  <tbody>\n",
              "    <tr>\n",
              "      <th>0</th>\n",
              "      <td>1</td>\n",
              "      <td>15634602</td>\n",
              "      <td>Hargrave</td>\n",
              "      <td>619</td>\n",
              "      <td>France</td>\n",
              "      <td>Female</td>\n",
              "      <td>42</td>\n",
              "      <td>2</td>\n",
              "      <td>0.00</td>\n",
              "      <td>1</td>\n",
              "      <td>1</td>\n",
              "      <td>1</td>\n",
              "      <td>101348.88</td>\n",
              "      <td>1</td>\n",
              "    </tr>\n",
              "    <tr>\n",
              "      <th>1</th>\n",
              "      <td>2</td>\n",
              "      <td>15647311</td>\n",
              "      <td>Hill</td>\n",
              "      <td>608</td>\n",
              "      <td>Spain</td>\n",
              "      <td>Female</td>\n",
              "      <td>41</td>\n",
              "      <td>1</td>\n",
              "      <td>83807.86</td>\n",
              "      <td>1</td>\n",
              "      <td>0</td>\n",
              "      <td>1</td>\n",
              "      <td>112542.58</td>\n",
              "      <td>0</td>\n",
              "    </tr>\n",
              "    <tr>\n",
              "      <th>2</th>\n",
              "      <td>3</td>\n",
              "      <td>15619304</td>\n",
              "      <td>Onio</td>\n",
              "      <td>502</td>\n",
              "      <td>France</td>\n",
              "      <td>Female</td>\n",
              "      <td>42</td>\n",
              "      <td>8</td>\n",
              "      <td>159660.80</td>\n",
              "      <td>3</td>\n",
              "      <td>1</td>\n",
              "      <td>0</td>\n",
              "      <td>113931.57</td>\n",
              "      <td>1</td>\n",
              "    </tr>\n",
              "    <tr>\n",
              "      <th>3</th>\n",
              "      <td>4</td>\n",
              "      <td>15701354</td>\n",
              "      <td>Boni</td>\n",
              "      <td>699</td>\n",
              "      <td>France</td>\n",
              "      <td>Female</td>\n",
              "      <td>39</td>\n",
              "      <td>1</td>\n",
              "      <td>0.00</td>\n",
              "      <td>2</td>\n",
              "      <td>0</td>\n",
              "      <td>0</td>\n",
              "      <td>93826.63</td>\n",
              "      <td>0</td>\n",
              "    </tr>\n",
              "    <tr>\n",
              "      <th>4</th>\n",
              "      <td>5</td>\n",
              "      <td>15737888</td>\n",
              "      <td>Mitchell</td>\n",
              "      <td>850</td>\n",
              "      <td>Spain</td>\n",
              "      <td>Female</td>\n",
              "      <td>43</td>\n",
              "      <td>2</td>\n",
              "      <td>125510.82</td>\n",
              "      <td>1</td>\n",
              "      <td>1</td>\n",
              "      <td>1</td>\n",
              "      <td>79084.10</td>\n",
              "      <td>0</td>\n",
              "    </tr>\n",
              "  </tbody>\n",
              "</table>\n",
              "</div>\n",
              "      <button class=\"colab-df-convert\" onclick=\"convertToInteractive('df-19d89e7c-f354-4b48-9dc0-42f0aafec48d')\"\n",
              "              title=\"Convert this dataframe to an interactive table.\"\n",
              "              style=\"display:none;\">\n",
              "        \n",
              "  <svg xmlns=\"http://www.w3.org/2000/svg\" height=\"24px\"viewBox=\"0 0 24 24\"\n",
              "       width=\"24px\">\n",
              "    <path d=\"M0 0h24v24H0V0z\" fill=\"none\"/>\n",
              "    <path d=\"M18.56 5.44l.94 2.06.94-2.06 2.06-.94-2.06-.94-.94-2.06-.94 2.06-2.06.94zm-11 1L8.5 8.5l.94-2.06 2.06-.94-2.06-.94L8.5 2.5l-.94 2.06-2.06.94zm10 10l.94 2.06.94-2.06 2.06-.94-2.06-.94-.94-2.06-.94 2.06-2.06.94z\"/><path d=\"M17.41 7.96l-1.37-1.37c-.4-.4-.92-.59-1.43-.59-.52 0-1.04.2-1.43.59L10.3 9.45l-7.72 7.72c-.78.78-.78 2.05 0 2.83L4 21.41c.39.39.9.59 1.41.59.51 0 1.02-.2 1.41-.59l7.78-7.78 2.81-2.81c.8-.78.8-2.07 0-2.86zM5.41 20L4 18.59l7.72-7.72 1.47 1.35L5.41 20z\"/>\n",
              "  </svg>\n",
              "      </button>\n",
              "      \n",
              "  <style>\n",
              "    .colab-df-container {\n",
              "      display:flex;\n",
              "      flex-wrap:wrap;\n",
              "      gap: 12px;\n",
              "    }\n",
              "\n",
              "    .colab-df-convert {\n",
              "      background-color: #E8F0FE;\n",
              "      border: none;\n",
              "      border-radius: 50%;\n",
              "      cursor: pointer;\n",
              "      display: none;\n",
              "      fill: #1967D2;\n",
              "      height: 32px;\n",
              "      padding: 0 0 0 0;\n",
              "      width: 32px;\n",
              "    }\n",
              "\n",
              "    .colab-df-convert:hover {\n",
              "      background-color: #E2EBFA;\n",
              "      box-shadow: 0px 1px 2px rgba(60, 64, 67, 0.3), 0px 1px 3px 1px rgba(60, 64, 67, 0.15);\n",
              "      fill: #174EA6;\n",
              "    }\n",
              "\n",
              "    [theme=dark] .colab-df-convert {\n",
              "      background-color: #3B4455;\n",
              "      fill: #D2E3FC;\n",
              "    }\n",
              "\n",
              "    [theme=dark] .colab-df-convert:hover {\n",
              "      background-color: #434B5C;\n",
              "      box-shadow: 0px 1px 3px 1px rgba(0, 0, 0, 0.15);\n",
              "      filter: drop-shadow(0px 1px 2px rgba(0, 0, 0, 0.3));\n",
              "      fill: #FFFFFF;\n",
              "    }\n",
              "  </style>\n",
              "\n",
              "      <script>\n",
              "        const buttonEl =\n",
              "          document.querySelector('#df-19d89e7c-f354-4b48-9dc0-42f0aafec48d button.colab-df-convert');\n",
              "        buttonEl.style.display =\n",
              "          google.colab.kernel.accessAllowed ? 'block' : 'none';\n",
              "\n",
              "        async function convertToInteractive(key) {\n",
              "          const element = document.querySelector('#df-19d89e7c-f354-4b48-9dc0-42f0aafec48d');\n",
              "          const dataTable =\n",
              "            await google.colab.kernel.invokeFunction('convertToInteractive',\n",
              "                                                     [key], {});\n",
              "          if (!dataTable) return;\n",
              "\n",
              "          const docLinkHtml = 'Like what you see? Visit the ' +\n",
              "            '<a target=\"_blank\" href=https://colab.research.google.com/notebooks/data_table.ipynb>data table notebook</a>'\n",
              "            + ' to learn more about interactive tables.';\n",
              "          element.innerHTML = '';\n",
              "          dataTable['output_type'] = 'display_data';\n",
              "          await google.colab.output.renderOutput(dataTable, element);\n",
              "          const docLink = document.createElement('div');\n",
              "          docLink.innerHTML = docLinkHtml;\n",
              "          element.appendChild(docLink);\n",
              "        }\n",
              "      </script>\n",
              "    </div>\n",
              "  </div>\n",
              "  "
            ]
          },
          "metadata": {},
          "execution_count": 14
        }
      ]
    },
    {
      "cell_type": "code",
      "source": [
        "df.shape"
      ],
      "metadata": {
        "colab": {
          "base_uri": "https://localhost:8080/"
        },
        "id": "bqLlme3vqA9R",
        "outputId": "c9e91ff6-ca68-456e-9a91-a8e61de25684"
      },
      "execution_count": 3,
      "outputs": [
        {
          "output_type": "execute_result",
          "data": {
            "text/plain": [
              "(10000, 14)"
            ]
          },
          "metadata": {},
          "execution_count": 3
        }
      ]
    },
    {
      "cell_type": "code",
      "source": [
        "df.dtypes"
      ],
      "metadata": {
        "colab": {
          "base_uri": "https://localhost:8080/"
        },
        "id": "YfwJnfOwqF7T",
        "outputId": "f855391d-3eb6-483c-d425-438edf02af7c"
      },
      "execution_count": 4,
      "outputs": [
        {
          "output_type": "execute_result",
          "data": {
            "text/plain": [
              "RowNumber            int64\n",
              "CustomerId           int64\n",
              "Surname             object\n",
              "CreditScore          int64\n",
              "Geography           object\n",
              "Gender              object\n",
              "Age                  int64\n",
              "Tenure               int64\n",
              "Balance            float64\n",
              "NumOfProducts        int64\n",
              "HasCrCard            int64\n",
              "IsActiveMember       int64\n",
              "EstimatedSalary    float64\n",
              "Exited               int64\n",
              "dtype: object"
            ]
          },
          "metadata": {},
          "execution_count": 4
        }
      ]
    },
    {
      "cell_type": "code",
      "source": [
        "df = df.drop(['RowNumber', 'CustomerId', 'Surname'], axis=1)"
      ],
      "metadata": {
        "id": "0V475ksPqNf5"
      },
      "execution_count": 15,
      "outputs": []
    },
    {
      "cell_type": "code",
      "source": [
        "existed_yes = df[df['Exited']== 1].Tenure \n",
        "existed_no = df[df['Exited']== 0].Tenure \n",
        "plt.xlabel('Tenure')\n",
        "plt.ylabel('no of customer')\n",
        "plt.title('Churn prediction')\n",
        "plt.hist([existed_no,existed_yes], color = ['red', 'blue'], label =(['Existed = no','Existed = yes']))\n",
        "plt.legend()"
      ],
      "metadata": {
        "colab": {
          "base_uri": "https://localhost:8080/",
          "height": 401
        },
        "id": "tFhmZTwrqS8N",
        "outputId": "5e396ef0-ae4b-48c0-eb8c-831d5bf84b21"
      },
      "execution_count": 16,
      "outputs": [
        {
          "output_type": "stream",
          "name": "stderr",
          "text": [
            "/usr/local/lib/python3.7/dist-packages/numpy/core/fromnumeric.py:3208: VisibleDeprecationWarning: Creating an ndarray from ragged nested sequences (which is a list-or-tuple of lists-or-tuples-or ndarrays with different lengths or shapes) is deprecated. If you meant to do this, you must specify 'dtype=object' when creating the ndarray.\n",
            "  return asarray(a).size\n",
            "/usr/local/lib/python3.7/dist-packages/matplotlib/cbook/__init__.py:1376: VisibleDeprecationWarning: Creating an ndarray from ragged nested sequences (which is a list-or-tuple of lists-or-tuples-or ndarrays with different lengths or shapes) is deprecated. If you meant to do this, you must specify 'dtype=object' when creating the ndarray.\n",
            "  X = np.atleast_1d(X.T if isinstance(X, np.ndarray) else np.asarray(X))\n"
          ]
        },
        {
          "output_type": "execute_result",
          "data": {
            "text/plain": [
              "<matplotlib.legend.Legend at 0x7f4aafbc6510>"
            ]
          },
          "metadata": {},
          "execution_count": 16
        },
        {
          "output_type": "display_data",
          "data": {
            "text/plain": [
              "<Figure size 432x288 with 1 Axes>"
            ],
            "image/png": "[encoded data removed]"
          },
          "metadata": {
            "needs_background": "light"
          }
        }
      ]
    },
    {
      "cell_type": "code",
      "source": [
        "salary_no_existed = df[df.Exited== 0].EstimatedSalary\n",
        "salary_yes_existed = df[df.Exited== 1].EstimatedSalary\n",
        "plt.xlabel('Estimad_salary')\n",
        "plt.ylabel('no of customer')\n",
        "plt.title('Churn prediction')\n",
        "plt.hist([salary_no_existed,salary_yes_existed], color = ['green', 'blue'], label =(['Existed = no','Existed = yes']))\n",
        "plt.legend()"
      ],
      "metadata": {
        "colab": {
          "base_uri": "https://localhost:8080/",
          "height": 402
        },
        "id": "m3Z4BWeKqdkV",
        "outputId": "67de5b51-01e7-4aad-c352-10652ecff485"
      },
      "execution_count": 17,
      "outputs": [
        {
          "output_type": "stream",
          "name": "stderr",
          "text": [
            "/usr/local/lib/python3.7/dist-packages/numpy/core/fromnumeric.py:3208: VisibleDeprecationWarning: Creating an ndarray from ragged nested sequences (which is a list-or-tuple of lists-or-tuples-or ndarrays with different lengths or shapes) is deprecated. If you meant to do this, you must specify 'dtype=object' when creating the ndarray.\n",
            "  return asarray(a).size\n",
            "/usr/local/lib/python3.7/dist-packages/matplotlib/cbook/__init__.py:1376: VisibleDeprecationWarning: Creating an ndarray from ragged nested sequences (which is a list-or-tuple of lists-or-tuples-or ndarrays with different lengths or shapes) is deprecated. If you meant to do this, you must specify 'dtype=object' when creating the ndarray.\n",
            "  X = np.atleast_1d(X.T if isinstance(X, np.ndarray) else np.asarray(X))\n"
          ]
        },
        {
          "output_type": "execute_result",
          "data": {
            "text/plain": [
              "<matplotlib.legend.Legend at 0x7f4aafb73410>"
            ]
          },
          "metadata": {},
          "execution_count": 17
        },
        {
          "output_type": "display_data",
          "data": {
            "text/plain": [
              "<Figure size 432x288 with 1 Axes>"
            ],
            "image/png": "[encoded data removed]"
          },
          "metadata": {
            "needs_background": "light"
          }
        }
      ]
    },
    {
      "cell_type": "code",
      "source": [
        "scaler = MinMaxScaler()\n",
        "df[['CreditScore', 'Age', 'Tenure', 'Balance', 'NumOfProducts', 'EstimatedSalary']] = scaler.fit_transform(df[['CreditScore', 'Age', 'Tenure', 'Balance', 'NumOfProducts', 'EstimatedSalary']])\n",
        "df.head()"
      ],
      "metadata": {
        "colab": {
          "base_uri": "https://localhost:8080/",
          "height": 205
        },
        "id": "cTOKC5mKsuOi",
        "outputId": "6cfc1a31-d06e-4ea0-e8ef-8f8e2d8bf94d"
      },
      "execution_count": 24,
      "outputs": [
        {
          "output_type": "execute_result",
          "data": {
            "text/plain": [
              "   CreditScore  Gender       Age  Tenure   Balance  NumOfProducts  HasCrCard  \\\n",
              "0        0.538     NaN  0.324324     0.2  0.000000       0.000000          1   \n",
              "1        0.516     NaN  0.310811     0.1  0.334031       0.000000          0   \n",
              "2        0.304     NaN  0.324324     0.8  0.636357       0.666667          1   \n",
              "3        0.698     NaN  0.283784     0.1  0.000000       0.333333          0   \n",
              "4        1.000     NaN  0.337838     0.2  0.500246       0.000000          1   \n",
              "\n",
              "   IsActiveMember  EstimatedSalary  Exited  Geography_France  \\\n",
              "0               1         0.506735       1                 1   \n",
              "1               1         0.562709       0                 0   \n",
              "2               0         0.569654       1                 1   \n",
              "3               0         0.469120       0                 1   \n",
              "4               1         0.395400       0                 0   \n",
              "\n",
              "   Geography_Germany  Geography_Spain  \n",
              "0                  0                0  \n",
              "1                  0                1  \n",
              "2                  0                0  \n",
              "3                  0                0  \n",
              "4                  0                1  "
            ],
            "text/html": [
              "\n",
              "  <div id=\"df-34878e3e-03ee-48d6-a9a5-edb1caad43a5\">\n",
              "    <div class=\"colab-df-container\">\n",
              "      <div>\n",
              "<style scoped>\n",
              "    .dataframe tbody tr th:only-of-type {\n",
              "        vertical-align: middle;\n",
              "    }\n",
              "\n",
              "    .dataframe tbody tr th {\n",
              "        vertical-align: top;\n",
              "    }\n",
              "\n",
              "    .dataframe thead th {\n",
              "        text-align: right;\n",
              "    }\n",
              "</style>\n",
              "<table border=\"1\" class=\"dataframe\">\n",
              "  <thead>\n",
              "    <tr style=\"text-align: right;\">\n",
              "      <th></th>\n",
              "      <th>CreditScore</th>\n",
              "      <th>Gender</th>\n",
              "      <th>Age</th>\n",
              "      <th>Tenure</th>\n",
              "      <th>Balance</th>\n",
              "      <th>NumOfProducts</th>\n",
              "      <th>HasCrCard</th>\n",
              "      <th>IsActiveMember</th>\n",
              "      <th>EstimatedSalary</th>\n",
              "      <th>Exited</th>\n",
              "      <th>Geography_France</th>\n",
              "      <th>Geography_Germany</th>\n",
              "      <th>Geography_Spain</th>\n",
              "    </tr>\n",
              "  </thead>\n",
              "  <tbody>\n",
              "    <tr>\n",
              "      <th>0</th>\n",
              "      <td>0.538</td>\n",
              "      <td>NaN</td>\n",
              "      <td>0.324324</td>\n",
              "      <td>0.2</td>\n",
              "      <td>0.000000</td>\n",
              "      <td>0.000000</td>\n",
              "      <td>1</td>\n",
              "      <td>1</td>\n",
              "      <td>0.506735</td>\n",
              "      <td>1</td>\n",
              "      <td>1</td>\n",
              "      <td>0</td>\n",
              "      <td>0</td>\n",
              "    </tr>\n",
              "    <tr>\n",
              "      <th>1</th>\n",
              "      <td>0.516</td>\n",
              "      <td>NaN</td>\n",
              "      <td>0.310811</td>\n",
              "      <td>0.1</td>\n",
              "      <td>0.334031</td>\n",
              "      <td>0.000000</td>\n",
              "      <td>0</td>\n",
              "      <td>1</td>\n",
              "      <td>0.562709</td>\n",
              "      <td>0</td>\n",
              "      <td>0</td>\n",
              "      <td>0</td>\n",
              "      <td>1</td>\n",
              "    </tr>\n",
              "    <tr>\n",
              "      <th>2</th>\n",
              "      <td>0.304</td>\n",
              "      <td>NaN</td>\n",
              "      <td>0.324324</td>\n",
              "      <td>0.8</td>\n",
              "      <td>0.636357</td>\n",
              "      <td>0.666667</td>\n",
              "      <td>1</td>\n",
              "      <td>0</td>\n",
              "      <td>0.569654</td>\n",
              "      <td>1</td>\n",
              "      <td>1</td>\n",
              "      <td>0</td>\n",
              "      <td>0</td>\n",
              "    </tr>\n",
              "    <tr>\n",
              "      <th>3</th>\n",
              "      <td>0.698</td>\n",
              "      <td>NaN</td>\n",
              "      <td>0.283784</td>\n",
              "      <td>0.1</td>\n",
              "      <td>0.000000</td>\n",
              "      <td>0.333333</td>\n",
              "      <td>0</td>\n",
              "      <td>0</td>\n",
              "      <td>0.469120</td>\n",
              "      <td>0</td>\n",
              "      <td>1</td>\n",
              "      <td>0</td>\n",
              "      <td>0</td>\n",
              "    </tr>\n",
              "    <tr>\n",
              "      <th>4</th>\n",
              "      <td>1.000</td>\n",
              "      <td>NaN</td>\n",
              "      <td>0.337838</td>\n",
              "      <td>0.2</td>\n",
              "      <td>0.500246</td>\n",
              "      <td>0.000000</td>\n",
              "      <td>1</td>\n",
              "      <td>1</td>\n",
              "      <td>0.395400</td>\n",
              "      <td>0</td>\n",
              "      <td>0</td>\n",
              "      <td>0</td>\n",
              "      <td>1</td>\n",
              "    </tr>\n",
              "  </tbody>\n",
              "</table>\n",
              "</div>\n",
              "      <button class=\"colab-df-convert\" onclick=\"convertToInteractive('df-34878e3e-03ee-48d6-a9a5-edb1caad43a5')\"\n",
              "              title=\"Convert this dataframe to an interactive table.\"\n",
              "              style=\"display:none;\">\n",
              "        \n",
              "  <svg xmlns=\"http://www.w3.org/2000/svg\" height=\"24px\"viewBox=\"0 0 24 24\"\n",
              "       width=\"24px\">\n",
              "    <path d=\"M0 0h24v24H0V0z\" fill=\"none\"/>\n",
              "    <path d=\"M18.56 5.44l.94 2.06.94-2.06 2.06-.94-2.06-.94-.94-2.06-.94 2.06-2.06.94zm-11 1L8.5 8.5l.94-2.06 2.06-.94-2.06-.94L8.5 2.5l-.94 2.06-2.06.94zm10 10l.94 2.06.94-2.06 2.06-.94-2.06-.94-.94-2.06-.94 2.06-2.06.94z\"/><path d=\"M17.41 7.96l-1.37-1.37c-.4-.4-.92-.59-1.43-.59-.52 0-1.04.2-1.43.59L10.3 9.45l-7.72 7.72c-.78.78-.78 2.05 0 2.83L4 21.41c.39.39.9.59 1.41.59.51 0 1.02-.2 1.41-.59l7.78-7.78 2.81-2.81c.8-.78.8-2.07 0-2.86zM5.41 20L4 18.59l7.72-7.72 1.47 1.35L5.41 20z\"/>\n",
              "  </svg>\n",
              "      </button>\n",
              "      \n",
              "  <style>\n",
              "    .colab-df-container {\n",
              "      display:flex;\n",
              "      flex-wrap:wrap;\n",
              "      gap: 12px;\n",
              "    }\n",
              "\n",
              "    .colab-df-convert {\n",
              "      background-color: #E8F0FE;\n",
              "      border: none;\n",
              "      border-radius: 50%;\n",
              "      cursor: pointer;\n",
              "      display: none;\n",
              "      fill: #1967D2;\n",
              "      height: 32px;\n",
              "      padding: 0 0 0 0;\n",
              "      width: 32px;\n",
              "    }\n",
              "\n",
              "    .colab-df-convert:hover {\n",
              "      background-color: #E2EBFA;\n",
              "      box-shadow: 0px 1px 2px rgba(60, 64, 67, 0.3), 0px 1px 3px 1px rgba(60, 64, 67, 0.15);\n",
              "      fill: #174EA6;\n",
              "    }\n",
              "\n",
              "    [theme=dark] .colab-df-convert {\n",
              "      background-color: #3B4455;\n",
              "      fill: #D2E3FC;\n",
              "    }\n",
              "\n",
              "    [theme=dark] .colab-df-convert:hover {\n",
              "      background-color: #434B5C;\n",
              "      box-shadow: 0px 1px 3px 1px rgba(0, 0, 0, 0.15);\n",
              "      filter: drop-shadow(0px 1px 2px rgba(0, 0, 0, 0.3));\n",
              "      fill: #FFFFFF;\n",
              "    }\n",
              "  </style>\n",
              "\n",
              "      <script>\n",
              "        const buttonEl =\n",
              "          document.querySelector('#df-34878e3e-03ee-48d6-a9a5-edb1caad43a5 button.colab-df-convert');\n",
              "        buttonEl.style.display =\n",
              "          google.colab.kernel.accessAllowed ? 'block' : 'none';\n",
              "\n",
              "        async function convertToInteractive(key) {\n",
              "          const element = document.querySelector('#df-34878e3e-03ee-48d6-a9a5-edb1caad43a5');\n",
              "          const dataTable =\n",
              "            await google.colab.kernel.invokeFunction('convertToInteractive',\n",
              "                                                     [key], {});\n",
              "          if (!dataTable) return;\n",
              "\n",
              "          const docLinkHtml = 'Like what you see? Visit the ' +\n",
              "            '<a target=\"_blank\" href=https://colab.research.google.com/notebooks/data_table.ipynb>data table notebook</a>'\n",
              "            + ' to learn more about interactive tables.';\n",
              "          element.innerHTML = '';\n",
              "          dataTable['output_type'] = 'display_data';\n",
              "          await google.colab.output.renderOutput(dataTable, element);\n",
              "          const docLink = document.createElement('div');\n",
              "          docLink.innerHTML = docLinkHtml;\n",
              "          element.appendChild(docLink);\n",
              "        }\n",
              "      </script>\n",
              "    </div>\n",
              "  </div>\n",
              "  "
            ]
          },
          "metadata": {},
          "execution_count": 24
        }
      ]
    },
    {
      "cell_type": "code",
      "source": [
        "df.Exited.value_counts()"
      ],
      "metadata": {
        "colab": {
          "base_uri": "https://localhost:8080/"
        },
        "id": "diVVXDR0s6lJ",
        "outputId": "fce6cada-c4d8-4781-ef51-9f03cb8d8bb9"
      },
      "execution_count": 25,
      "outputs": [
        {
          "output_type": "execute_result",
          "data": {
            "text/plain": [
              "0    7963\n",
              "1    2037\n",
              "Name: Exited, dtype: int64"
            ]
          },
          "metadata": {},
          "execution_count": 25
        }
      ]
    },
    {
      "cell_type": "code",
      "source": [
        "x = df.drop('Exited', axis = 1) \n",
        "y = df.Exited\n",
        "x_train, x_test, y_train, y_test = train_test_split(x, y)"
      ],
      "metadata": {
        "id": "EBPmU5CZs-t2"
      },
      "execution_count": 28,
      "outputs": []
    },
    {
      "cell_type": "code",
      "source": [
        "x_train.shape"
      ],
      "metadata": {
        "colab": {
          "base_uri": "https://localhost:8080/"
        },
        "id": "6l0pSocitNDY",
        "outputId": "ab1ee5eb-f0cd-470f-a045-d9760ab56b55"
      },
      "execution_count": 29,
      "outputs": [
        {
          "output_type": "execute_result",
          "data": {
            "text/plain": [
              "(7500, 12)"
            ]
          },
          "metadata": {},
          "execution_count": 29
        }
      ]
    },
    {
      "cell_type": "code",
      "source": [
        "x_test.shape"
      ],
      "metadata": {
        "colab": {
          "base_uri": "https://localhost:8080/"
        },
        "id": "203IeYRptQpw",
        "outputId": "529508b6-de40-4f2c-9176-0847fbfd5794"
      },
      "execution_count": 30,
      "outputs": [
        {
          "output_type": "execute_result",
          "data": {
            "text/plain": [
              "(2500, 12)"
            ]
          },
          "metadata": {},
          "execution_count": 30
        }
      ]
    },
    {
      "cell_type": "code",
      "source": [
        "import tensorflow as tf\n",
        "from tensorflow import keras\n",
        "\n",
        "model = keras.Sequential([\n",
        "        keras.layers.Dense(12, input_shape = (12,), activation = 'relu'),\n",
        "        keras.layers.Dense(12, activation = 'relu'),\n",
        "        keras.layers.Dense(1, activation = 'sigmoid')]) \n",
        "\n",
        "\n",
        "model.compile(optimizer = 'adam', loss = 'binary_crossentropy', metrics = 'accuracy')\n",
        "model.fit(x_train, y_train, epochs = 100)"
      ],
      "metadata": {
        "colab": {
          "base_uri": "https://localhost:8080/"
        },
        "id": "xUY4jYvNtVSf",
        "outputId": "ef565b3a-d402-4934-f56a-98f686d5f124"
      },
      "execution_count": 31,
      "outputs": [
        {
          "output_type": "stream",
          "name": "stdout",
          "text": [
            "Epoch 1/100\n",
            "235/235 [==============================] - 1s 2ms/step - loss: nan - accuracy: 0.7961\n",
            "Epoch 2/100\n",
            "235/235 [==============================] - 0s 1ms/step - loss: nan - accuracy: 0.7961\n",
            "Epoch 3/100\n",
            "235/235 [==============================] - 0s 1ms/step - loss: nan - accuracy: 0.7961\n",
            "Epoch 4/100\n",
            "235/235 [==============================] - 0s 2ms/step - loss: nan - accuracy: 0.7961\n",
            "Epoch 5/100\n",
            "235/235 [==============================] - 0s 2ms/step - loss: nan - accuracy: 0.7961\n",
            "Epoch 6/100\n",
            "235/235 [==============================] - 0s 2ms/step - loss: nan - accuracy: 0.7961\n",
            "Epoch 7/100\n",
            "235/235 [==============================] - 0s 1ms/step - loss: nan - accuracy: 0.7961\n",
            "Epoch 8/100\n",
            "235/235 [==============================] - 0s 2ms/step - loss: nan - accuracy: 0.7961\n",
            "Epoch 9/100\n",
            "235/235 [==============================] - 0s 1ms/step - loss: nan - accuracy: 0.7961\n",
            "Epoch 10/100\n",
            "235/235 [==============================] - 0s 1ms/step - loss: nan - accuracy: 0.7961\n",
            "Epoch 11/100\n",
            "235/235 [==============================] - 0s 1ms/step - loss: nan - accuracy: 0.7961\n",
            "Epoch 12/100\n",
            "235/235 [==============================] - 0s 1ms/step - loss: nan - accuracy: 0.7961\n",
            "Epoch 13/100\n",
            "235/235 [==============================] - 0s 1ms/step - loss: nan - accuracy: 0.7961\n",
            "Epoch 14/100\n",
            "235/235 [==============================] - 0s 1ms/step - loss: nan - accuracy: 0.7961\n",
            "Epoch 15/100\n",
            "235/235 [==============================] - 0s 2ms/step - loss: nan - accuracy: 0.7961\n",
            "Epoch 16/100\n",
            "235/235 [==============================] - 0s 1ms/step - loss: nan - accuracy: 0.7961\n",
            "Epoch 17/100\n",
            "235/235 [==============================] - 0s 1ms/step - loss: nan - accuracy: 0.7961\n",
            "Epoch 18/100\n",
            "235/235 [==============================] - 0s 1ms/step - loss: nan - accuracy: 0.7961\n",
            "Epoch 19/100\n",
            "235/235 [==============================] - 0s 1ms/step - loss: nan - accuracy: 0.7961\n",
            "Epoch 20/100\n",
            "235/235 [==============================] - 0s 1ms/step - loss: nan - accuracy: 0.7961\n",
            "Epoch 21/100\n",
            "235/235 [==============================] - 0s 1ms/step - loss: nan - accuracy: 0.7961\n",
            "Epoch 22/100\n",
            "235/235 [==============================] - 0s 1ms/step - loss: nan - accuracy: 0.7961\n",
            "Epoch 23/100\n",
            "235/235 [==============================] - 0s 1ms/step - loss: nan - accuracy: 0.7961\n",
            "Epoch 24/100\n",
            "235/235 [==============================] - 0s 1ms/step - loss: nan - accuracy: 0.7961\n",
            "Epoch 25/100\n",
            "235/235 [==============================] - 0s 1ms/step - loss: nan - accuracy: 0.7961\n",
            "Epoch 26/100\n",
            "235/235 [==============================] - 0s 1ms/step - loss: nan - accuracy: 0.7961\n",
            "Epoch 27/100\n",
            "235/235 [==============================] - 0s 1ms/step - loss: nan - accuracy: 0.7961\n",
            "Epoch 28/100\n",
            "235/235 [==============================] - 0s 1ms/step - loss: nan - accuracy: 0.7961\n",
            "Epoch 29/100\n",
            "235/235 [==============================] - 0s 1ms/step - loss: nan - accuracy: 0.7961\n",
            "Epoch 30/100\n",
            "235/235 [==============================] - 0s 1ms/step - loss: nan - accuracy: 0.7961\n",
            "Epoch 31/100\n",
            "235/235 [==============================] - 0s 1ms/step - loss: nan - accuracy: 0.7961\n",
            "Epoch 32/100\n",
            "235/235 [==============================] - 0s 1ms/step - loss: nan - accuracy: 0.7961\n",
            "Epoch 33/100\n",
            "235/235 [==============================] - 0s 1ms/step - loss: nan - accuracy: 0.7961\n",
            "Epoch 34/100\n",
            "235/235 [==============================] - 0s 1ms/step - loss: nan - accuracy: 0.7961\n",
            "Epoch 35/100\n",
            "235/235 [==============================] - 0s 1ms/step - loss: nan - accuracy: 0.7961\n",
            "Epoch 36/100\n",
            "235/235 [==============================] - 0s 1ms/step - loss: nan - accuracy: 0.7961\n",
            "Epoch 37/100\n",
            "235/235 [==============================] - 0s 1ms/step - loss: nan - accuracy: 0.7961\n",
            "Epoch 38/100\n",
            "235/235 [==============================] - 0s 1ms/step - loss: nan - accuracy: 0.7961\n",
            "Epoch 39/100\n",
            "235/235 [==============================] - 0s 1ms/step - loss: nan - accuracy: 0.7961\n",
            "Epoch 40/100\n",
            "235/235 [==============================] - 0s 1ms/step - loss: nan - accuracy: 0.7961\n",
            "Epoch 41/100\n",
            "235/235 [==============================] - 0s 2ms/step - loss: nan - accuracy: 0.7961\n",
            "Epoch 42/100\n",
            "235/235 [==============================] - 0s 1ms/step - loss: nan - accuracy: 0.7961\n",
            "Epoch 43/100\n",
            "235/235 [==============================] - 0s 1ms/step - loss: nan - accuracy: 0.7961\n",
            "Epoch 44/100\n",
            "235/235 [==============================] - 0s 1ms/step - loss: nan - accuracy: 0.7961\n",
            "Epoch 45/100\n",
            "235/235 [==============================] - 0s 1ms/step - loss: nan - accuracy: 0.7961\n",
            "Epoch 46/100\n",
            "235/235 [==============================] - 0s 1ms/step - loss: nan - accuracy: 0.7961\n",
            "Epoch 47/100\n",
            "235/235 [==============================] - 0s 1ms/step - loss: nan - accuracy: 0.7961\n",
            "Epoch 48/100\n",
            "235/235 [==============================] - 0s 1ms/step - loss: nan - accuracy: 0.7961\n",
            "Epoch 49/100\n",
            "235/235 [==============================] - 0s 1ms/step - loss: nan - accuracy: 0.7961\n",
            "Epoch 50/100\n",
            "235/235 [==============================] - 0s 2ms/step - loss: nan - accuracy: 0.7961\n",
            "Epoch 51/100\n",
            "235/235 [==============================] - 0s 1ms/step - loss: nan - accuracy: 0.7961\n",
            "Epoch 52/100\n",
            "235/235 [==============================] - 0s 1ms/step - loss: nan - accuracy: 0.7961\n",
            "Epoch 53/100\n",
            "235/235 [==============================] - 0s 1ms/step - loss: nan - accuracy: 0.7961\n",
            "Epoch 54/100\n",
            "235/235 [==============================] - 0s 1ms/step - loss: nan - accuracy: 0.7961\n",
            "Epoch 55/100\n",
            "235/235 [==============================] - 0s 2ms/step - loss: nan - accuracy: 0.7961\n",
            "Epoch 56/100\n",
            "235/235 [==============================] - 0s 1ms/step - loss: nan - accuracy: 0.7961\n",
            "Epoch 57/100\n",
            "235/235 [==============================] - 0s 1ms/step - loss: nan - accuracy: 0.7961\n",
            "Epoch 58/100\n",
            "235/235 [==============================] - 0s 1ms/step - loss: nan - accuracy: 0.7961\n",
            "Epoch 59/100\n",
            "235/235 [==============================] - 0s 1ms/step - loss: nan - accuracy: 0.7961\n",
            "Epoch 60/100\n",
            "235/235 [==============================] - 0s 1ms/step - loss: nan - accuracy: 0.7961\n",
            "Epoch 61/100\n",
            "235/235 [==============================] - 0s 1ms/step - loss: nan - accuracy: 0.7961\n",
            "Epoch 62/100\n",
            "235/235 [==============================] - 0s 1ms/step - loss: nan - accuracy: 0.7961\n",
            "Epoch 63/100\n",
            "235/235 [==============================] - 0s 2ms/step - loss: nan - accuracy: 0.7961\n",
            "Epoch 64/100\n",
            "235/235 [==============================] - 0s 2ms/step - loss: nan - accuracy: 0.7961\n",
            "Epoch 65/100\n",
            "235/235 [==============================] - 0s 1ms/step - loss: nan - accuracy: 0.7961\n",
            "Epoch 66/100\n",
            "235/235 [==============================] - 0s 1ms/step - loss: nan - accuracy: 0.7961\n",
            "Epoch 67/100\n",
            "235/235 [==============================] - 0s 1ms/step - loss: nan - accuracy: 0.7961\n",
            "Epoch 68/100\n",
            "235/235 [==============================] - 0s 1ms/step - loss: nan - accuracy: 0.7961\n",
            "Epoch 69/100\n",
            "235/235 [==============================] - 0s 1ms/step - loss: nan - accuracy: 0.7961\n",
            "Epoch 70/100\n",
            "235/235 [==============================] - 0s 1ms/step - loss: nan - accuracy: 0.7961\n",
            "Epoch 71/100\n",
            "235/235 [==============================] - 0s 1ms/step - loss: nan - accuracy: 0.7961\n",
            "Epoch 72/100\n",
            "235/235 [==============================] - 0s 1ms/step - loss: nan - accuracy: 0.7961\n",
            "Epoch 73/100\n",
            "235/235 [==============================] - 0s 2ms/step - loss: nan - accuracy: 0.7961\n",
            "Epoch 74/100\n",
            "235/235 [==============================] - 0s 1ms/step - loss: nan - accuracy: 0.7961\n",
            "Epoch 75/100\n",
            "235/235 [==============================] - 0s 1ms/step - loss: nan - accuracy: 0.7961\n",
            "Epoch 76/100\n",
            "235/235 [==============================] - 0s 1ms/step - loss: nan - accuracy: 0.7961\n",
            "Epoch 77/100\n",
            "235/235 [==============================] - 0s 1ms/step - loss: nan - accuracy: 0.7961\n",
            "Epoch 78/100\n",
            "235/235 [==============================] - 0s 1ms/step - loss: nan - accuracy: 0.7961\n",
            "Epoch 79/100\n",
            "235/235 [==============================] - 0s 1ms/step - loss: nan - accuracy: 0.7961\n",
            "Epoch 80/100\n",
            "235/235 [==============================] - 0s 1ms/step - loss: nan - accuracy: 0.7961\n",
            "Epoch 81/100\n",
            "235/235 [==============================] - 0s 2ms/step - loss: nan - accuracy: 0.7961\n",
            "Epoch 82/100\n",
            "235/235 [==============================] - 0s 1ms/step - loss: nan - accuracy: 0.7961\n",
            "Epoch 83/100\n",
            "235/235 [==============================] - 0s 1ms/step - loss: nan - accuracy: 0.7961\n",
            "Epoch 84/100\n",
            "235/235 [==============================] - 0s 2ms/step - loss: nan - accuracy: 0.7961\n",
            "Epoch 85/100\n",
            "235/235 [==============================] - 0s 1ms/step - loss: nan - accuracy: 0.7961\n",
            "Epoch 86/100\n",
            "235/235 [==============================] - 0s 1ms/step - loss: nan - accuracy: 0.7961\n",
            "Epoch 87/100\n",
            "235/235 [==============================] - 0s 1ms/step - loss: nan - accuracy: 0.7961\n",
            "Epoch 88/100\n",
            "235/235 [==============================] - 0s 1ms/step - loss: nan - accuracy: 0.7961\n",
            "Epoch 89/100\n",
            "235/235 [==============================] - 0s 1ms/step - loss: nan - accuracy: 0.7961\n",
            "Epoch 90/100\n",
            "235/235 [==============================] - 0s 1ms/step - loss: nan - accuracy: 0.7961\n",
            "Epoch 91/100\n",
            "235/235 [==============================] - 0s 1ms/step - loss: nan - accuracy: 0.7961\n",
            "Epoch 92/100\n",
            "235/235 [==============================] - 0s 1ms/step - loss: nan - accuracy: 0.7961\n",
            "Epoch 93/100\n",
            "235/235 [==============================] - 0s 2ms/step - loss: nan - accuracy: 0.7961\n",
            "Epoch 94/100\n",
            "235/235 [==============================] - 0s 1ms/step - loss: nan - accuracy: 0.7961\n",
            "Epoch 95/100\n",
            "235/235 [==============================] - 0s 2ms/step - loss: nan - accuracy: 0.7961\n",
            "Epoch 96/100\n",
            "235/235 [==============================] - 0s 1ms/step - loss: nan - accuracy: 0.7961\n",
            "Epoch 97/100\n",
            "235/235 [==============================] - 0s 2ms/step - loss: nan - accuracy: 0.7961\n",
            "Epoch 98/100\n",
            "235/235 [==============================] - 0s 2ms/step - loss: nan - accuracy: 0.7961\n",
            "Epoch 99/100\n",
            "235/235 [==============================] - 1s 3ms/step - loss: nan - accuracy: 0.7961\n",
            "Epoch 100/100\n",
            "235/235 [==============================] - 0s 2ms/step - loss: nan - accuracy: 0.7961\n"
          ]
        },
        {
          "output_type": "execute_result",
          "data": {
            "text/plain": [
              "<keras.callbacks.History at 0x7f4aab879950>"
            ]
          },
          "metadata": {},
          "execution_count": 31
        }
      ]
    },
    {
      "cell_type": "code",
      "source": [
        "model.evaluate(x_test, y_test)"
      ],
      "metadata": {
        "colab": {
          "base_uri": "https://localhost:8080/"
        },
        "id": "L-tgWA0bte4M",
        "outputId": "28b7e089-a6c1-457a-f344-26e01478c827"
      },
      "execution_count": 32,
      "outputs": [
        {
          "output_type": "stream",
          "name": "stdout",
          "text": [
            "79/79 [==============================] - 0s 1ms/step - loss: nan - accuracy: 0.7968\n"
          ]
        },
        {
          "output_type": "execute_result",
          "data": {
            "text/plain": [
              "[nan, 0.7968000173568726]"
            ]
          },
          "metadata": {},
          "execution_count": 32
        }
      ]
    },
    {
      "cell_type": "code",
      "source": [
        "yp = model.predict(x_test)\n",
        "yp[:5]"
      ],
      "metadata": {
        "colab": {
          "base_uri": "https://localhost:8080/"
        },
        "id": "jK9ZxM5_tgIQ",
        "outputId": "9e13e1a0-a3d3-4ab3-d1a4-fad7a688b65f"
      },
      "execution_count": 35,
      "outputs": [
        {
          "output_type": "execute_result",
          "data": {
            "text/plain": [
              "array([[nan],\n",
              "       [nan],\n",
              "       [nan],\n",
              "       [nan],\n",
              "       [nan]], dtype=float32)"
            ]
          },
          "metadata": {},
          "execution_count": 35
        }
      ]
    },
    {
      "cell_type": "code",
      "source": [
        ""
      ],
      "metadata": {
        "id": "2QsRAd7ouLZL"
      },
      "execution_count": null,
      "outputs": []
    },
    {
      "cell_type": "code",
      "source": [
        "y_pred = []\n",
        "for element in yp:\n",
        "    if element > 0.5:\n",
        "        y_pred.append(1)\n",
        "    else:\n",
        "        y_pred.append(0)"
      ],
      "metadata": {
        "id": "R_nVWqcAt7st"
      },
      "execution_count": 36,
      "outputs": []
    },
    {
      "cell_type": "code",
      "source": [
        "from sklearn.metrics import confusion_matrix , classification_report\n",
        "\n",
        "print(classification_report(y_test,y_pred))"
      ],
      "metadata": {
        "colab": {
          "base_uri": "https://localhost:8080/"
        },
        "id": "xEcTqEvTuBKc",
        "outputId": "cea853bf-d97d-49ee-804d-f60fb851a960"
      },
      "execution_count": 37,
      "outputs": [
        {
          "output_type": "stream",
          "name": "stdout",
          "text": [
            "              precision    recall  f1-score   support\n",
            "\n",
            "           0       0.80      1.00      0.89      1992\n",
            "           1       0.00      0.00      0.00       508\n",
            "\n",
            "    accuracy                           0.80      2500\n",
            "   macro avg       0.40      0.50      0.44      2500\n",
            "weighted avg       0.63      0.80      0.71      2500\n",
            "\n"
          ]
        },
        {
          "output_type": "stream",
          "name": "stderr",
          "text": [
            "/usr/local/lib/python3.7/dist-packages/sklearn/metrics/_classification.py:1318: UndefinedMetricWarning: Precision and F-score are ill-defined and being set to 0.0 in labels with no predicted samples. Use `zero_division` parameter to control this behavior.\n",
            "  _warn_prf(average, modifier, msg_start, len(result))\n",
            "/usr/local/lib/python3.7/dist-packages/sklearn/metrics/_classification.py:1318: UndefinedMetricWarning: Precision and F-score are ill-defined and being set to 0.0 in labels with no predicted samples. Use `zero_division` parameter to control this behavior.\n",
            "  _warn_prf(average, modifier, msg_start, len(result))\n",
            "/usr/local/lib/python3.7/dist-packages/sklearn/metrics/_classification.py:1318: UndefinedMetricWarning: Precision and F-score are ill-defined and being set to 0.0 in labels with no predicted samples. Use `zero_division` parameter to control this behavior.\n",
            "  _warn_prf(average, modifier, msg_start, len(result))\n"
          ]
        }
      ]
    },
    {
      "cell_type": "code",
      "source": [
        "import seaborn as sn\n",
        "from matplotlib  import pyplot as plt\n",
        "\n",
        "cm = tf.math.confusion_matrix(labels=y_test,predictions=y_pred)\n",
        "\n",
        "plt.figure(figsize = (10,7))\n",
        "sn.heatmap(cm, annot=True, fmt='d')\n",
        "plt.xlabel('Predicted')\n",
        "plt.ylabel('Truth')"
      ],
      "metadata": {
        "colab": {
          "base_uri": "https://localhost:8080/",
          "height": 459
        },
        "id": "3nxcuBltuNJC",
        "outputId": "57c73b92-fb8e-48b1-a9f0-faeeb541269e"
      },
      "execution_count": 38,
      "outputs": [
        {
          "output_type": "execute_result",
          "data": {
            "text/plain": [
              "Text(69.0, 0.5, 'Truth')"
            ]
          },
          "metadata": {},
          "execution_count": 38
        },
        {
          "output_type": "display_data",
          "data": {
            "text/plain": [
              "<Figure size 720x504 with 2 Axes>"
            ],
            "image/png": "[encoded data removed]"
          },
          "metadata": {
            "needs_background": "light"
          }
        }
      ]
    },
    {
      "cell_type": "code",
      "source": [
        "round((1922+229)/(1922+229+275+74),2)"
      ],
      "metadata": {
        "colab": {
          "base_uri": "https://localhost:8080/"
        },
        "id": "xLAVYV90uTql",
        "outputId": "e6f42016-a68d-4b63-8c6c-a5ccc84559be"
      },
      "execution_count": 39,
      "outputs": [
        {
          "output_type": "execute_result",
          "data": {
            "text/plain": [
              "0.86"
            ]
          },
          "metadata": {},
          "execution_count": 39
        }
      ]
    },
    {
      "cell_type": "code",
      "source": [
        "round(1922/(1922+275),2)"
      ],
      "metadata": {
        "colab": {
          "base_uri": "https://localhost:8080/"
        },
        "id": "zQWHFIJ1uTxb",
        "outputId": "a2e4dee9-fb26-4013-d98d-92367d4fcd48"
      },
      "execution_count": 40,
      "outputs": [
        {
          "output_type": "execute_result",
          "data": {
            "text/plain": [
              "0.87"
            ]
          },
          "metadata": {},
          "execution_count": 40
        }
      ]
    },
    {
      "cell_type": "code",
      "source": [
        "round(229/(229+74),2)"
      ],
      "metadata": {
        "colab": {
          "base_uri": "https://localhost:8080/"
        },
        "id": "JjhIU55PubdX",
        "outputId": "a28bfd77-9123-4443-a860-2e487ae6aa54"
      },
      "execution_count": 41,
      "outputs": [
        {
          "output_type": "execute_result",
          "data": {
            "text/plain": [
              "0.76"
            ]
          },
          "metadata": {},
          "execution_count": 41
        }
      ]
    },
    {
      "cell_type": "code",
      "source": [
        "round(1922/(1922+74),2)"
      ],
      "metadata": {
        "colab": {
          "base_uri": "https://localhost:8080/"
        },
        "id": "iZghB0yGuif3",
        "outputId": "09bfa87a-60ad-4e5e-f321-9ecac11fa276"
      },
      "execution_count": 42,
      "outputs": [
        {
          "output_type": "execute_result",
          "data": {
            "text/plain": [
              "0.96"
            ]
          },
          "metadata": {},
          "execution_count": 42
        }
      ]
    },
    {
      "cell_type": "code",
      "source": [
        "round(229/(229+275),2)"
      ],
      "metadata": {
        "colab": {
          "base_uri": "https://localhost:8080/"
        },
        "id": "0RiIWHtKutT7",
        "outputId": "943fd737-e258-4a93-9dd9-d16fd56e1965"
      },
      "execution_count": 43,
      "outputs": [
        {
          "output_type": "execute_result",
          "data": {
            "text/plain": [
              "0.45"
            ]
          },
          "metadata": {},
          "execution_count": 43
        }
      ]
    }
  ]
}